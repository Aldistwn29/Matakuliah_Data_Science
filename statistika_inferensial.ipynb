{
  "nbformat": 4,
  "nbformat_minor": 0,
  "metadata": {
    "colab": {
      "provenance": [],
      "authorship_tag": "ABX9TyMEpOstAo7eAYYwkWCUnhFf",
      "include_colab_link": true
    },
    "kernelspec": {
      "name": "python3",
      "display_name": "Python 3"
    },
    "language_info": {
      "name": "python"
    }
  },
  "cells": [
    {
      "cell_type": "markdown",
      "metadata": {
        "id": "view-in-github",
        "colab_type": "text"
      },
      "source": [
        "<a href=\"https://colab.research.google.com/github/Aldistwn29/Matakuliah_Data_Science/blob/main/statistika_inferensial.ipynb\" target=\"_parent\"><img src=\"https://colab.research.google.com/assets/colab-badge.svg\" alt=\"Open In Colab\"/></a>"
      ]
    },
    {
      "cell_type": "markdown",
      "source": [
        "# **Uji Hipotesis**"
      ],
      "metadata": {
        "id": "58YXNJxqQOwe"
      }
    },
    {
      "cell_type": "code",
      "execution_count": null,
      "metadata": {
        "colab": {
          "base_uri": "https://localhost:8080/"
        },
        "id": "8vvwJoSN84P6",
        "outputId": "0cb92307-9254-4d40-ce9a-d9869965e968"
      },
      "outputs": [
        {
          "output_type": "stream",
          "name": "stdout",
          "text": [
            "Nilai t-stats:4.02\n",
            "Nilai p-value:0.00\n",
            "terdapat perbedaan siginifikan dalam rata-rata penjualan cabang 1 dan cabang 2\n"
          ]
        }
      ],
      "source": [
        "# import library\n",
        "import numpy as np\n",
        "from scipy import stats\n",
        "\n",
        "# asumsi data penjualan dari kedua cabang\n",
        "data_cab1 =  [150, 160, 155, 170, 145, 152, 158, 167, 155, 160, 165, 150, 170,\n",
        "              162, 159, 155, 161, 152, 158, 165, 171, 156, 157, 162, 159, 155, 164, 166, 158, 163]\n",
        "data_cab2 =  [148, 155, 152, 160, 149, 151, 158, 157, 154, 153, 155, 149, 157,\n",
        "              161, 150, 152, 155, 148, 151, 157, 160, 154, 153, 150, 156, 158, 159, 154, 150, 151]\n",
        "\n",
        "# melakukan uji t, 2 sampel\n",
        "t_stat, p_value = stats.ttest_ind(data_cab1, data_cab2)\n",
        "\n",
        "# menampilkan hasil\n",
        "print(f'Nilai t-stats:{t_stat:.2f}')\n",
        "print(f'Nilai p-value:{p_value:.2f}')\n",
        "\n",
        "# nilai keputusan\n",
        "alpha = 0.05\n",
        "\n",
        "if p_value < alpha:\n",
        "    print('terdapat perbedaan siginifikan dalam rata-rata penjualan cabang 1 dan cabang 2')\n",
        "else:\n",
        "    print('tidak ada perbedaan signifikan dalam rata-rata penjualan cabang 1 dan cabang 2')"
      ]
    },
    {
      "cell_type": "markdown",
      "source": [
        "**Interpertasi:**\\\n",
        "Maka H0 di tolak, kita tidak punya banayak terdapat perbedaan signifikan dalam rata-rata penjualan cabang 1 dan cabang 2"
      ],
      "metadata": {
        "id": "hdf1mGB9Yset"
      }
    },
    {
      "cell_type": "code",
      "source": [
        "import math\n",
        "\n",
        "\n",
        "def rata_rata(data):\n",
        "  n = len(data)\n",
        "\n",
        "  mean = sum(data)/n\n",
        "  return mean\n",
        "\n",
        "def variansi(data):\n",
        "  n = len(data)\n",
        "  mean = rata_rata(data)\n",
        "  variansi = sum((x - mean) ** 2 for x in data)/n\n",
        "  return variansi\n",
        "\n",
        "def uji_t(data1, data2):\n",
        "\n",
        "  mean1 = rata_rata(data1)\n",
        "  mean2 = rata_rata(data2)\n",
        "\n",
        "  variansi1 = variansi(data1)\n",
        "  variansi2 = variansi(data2)\n",
        "\n",
        "  n1 = len(data1)\n",
        "  n2 = len(data2)\n",
        "\n",
        "  stat_t = (mean1 - mean2) / math.sqrt((variansi1/n1 + variansi2/n2))\n",
        "  return stat_t"
      ],
      "metadata": {
        "id": "ceu0WqVvL1sx"
      },
      "execution_count": null,
      "outputs": []
    },
    {
      "cell_type": "code",
      "source": [
        "uji_t(data_cab1, data_cab2)"
      ],
      "metadata": {
        "colab": {
          "base_uri": "https://localhost:8080/"
        },
        "id": "Xtn-9pdDLPnm",
        "outputId": "02f01e29-0134-43eb-bac0-5c82dc5e71e6"
      },
      "execution_count": null,
      "outputs": [
        {
          "output_type": "execute_result",
          "data": {
            "text/plain": [
              "4.091183661346218"
            ]
          },
          "metadata": {},
          "execution_count": 60
        }
      ]
    },
    {
      "cell_type": "markdown",
      "source": [
        "# **Interval Kepercayaan**"
      ],
      "metadata": {
        "id": "5ebkQwWAQT8z"
      }
    },
    {
      "cell_type": "code",
      "source": [
        "import numpy as np\n",
        "from scipy import stats\n",
        "\n",
        "# Data set\n",
        "data_survei_1 = [500, 520, 510, 505, 498, 502, 515, 490, 485, 500]\n",
        "data_survei_2 = [480, 495, 470, 460, 485, 475, 465, 485, 475, 480]\n",
        "\n",
        "# Menghitung rata-rata\n",
        "mean1 = np.mean(data_survei_1)\n",
        "mean2 = np.mean(data_survei_2)\n",
        "\n",
        "# Menghitung standar deviasi\n",
        "std1 = np.std(data_survei_1, ddof=1)\n",
        "std2 = np.std(data_survei_2, ddof=1)\n",
        "\n",
        "# Ukuran sample\n",
        "n1 = len(data_survei_1)\n",
        "n2 = len(data_survei_2)\n",
        "\n",
        "# Menghitung standar error\n",
        "se = np.sqrt((std1 ** 2 / n1) + (std2 ** 2 / n2))\n",
        "\n",
        "\n",
        "# menentukan tingkat kepercayaan\n",
        "confidence = 0.95\n",
        "alpha = 1 - confidence\n",
        "\n",
        "# nilai t kritis untuk tingkat kepercayaan 95%\n",
        "t_critical = stats.t.ppf(1 - alpha/2, df= n1 + n2 - 2)\n",
        "\n",
        "# margin of error\n",
        "moe = t_critical * se\n",
        "\n",
        "# Perbedaan rata-rata\n",
        "mean_did = mean1 - mean2\n",
        "\n",
        "# Interval kepercayaan\n",
        "lower_bound = mean_did - moe\n",
        "upper_bound = mean_did + moe\n",
        "\n",
        "\n",
        "print(\"rata-rata data1: \", mean1)\n",
        "print(\"rata-rata data2: \", mean2)\n",
        "print(\"standar deviansi data1: \", std1)\n",
        "print(\"standar deviansi data1: \", std2)\n",
        "print(\"Ukuran Sempel n1: \", n1)\n",
        "print(\"Ukuran Sempel n2: \", n2)\n",
        "print(\"Standar error: \", se)\n",
        "print(\"Nilai t-kritis: \", t_critical)\n",
        "print(\"Margin of error: \", moe)\n",
        "print(\"Perbedaan rata-rata: \",mean_did)\n",
        "print(f\"Interval kepercayaan: {lower_bound}, {upper_bound }\")"
      ],
      "metadata": {
        "colab": {
          "base_uri": "https://localhost:8080/"
        },
        "id": "Jd1mKzs4QXzU",
        "outputId": "6d359d85-92cd-4f50-c74e-c279e09c9f9f"
      },
      "execution_count": 12,
      "outputs": [
        {
          "output_type": "stream",
          "name": "stdout",
          "text": [
            "rata-rata data1:  502.5\n",
            "rata-rata data2:  477.0\n",
            "standar deviansi data1:  10.64842189664219\n",
            "standar deviansi data1:  10.327955589886445\n",
            "Ukuran Sempel n1:  10\n",
            "Ukuran Sempel n2:  10\n",
            "Standar error:  4.6910079466523555\n",
            "Nilai t-kritis:  2.10092204024096\n",
            "Margin of error:  9.855441986067424\n",
            "Perbedaan rata-rata:  25.5\n",
            "Interval kepercayaan: 15.644558013932576, 35.355441986067426\n"
          ]
        }
      ]
    },
    {
      "cell_type": "markdown",
      "source": [
        "**Interpertasi**: \\\n",
        "- Dari hasil yang di dapatkan di atas dengan tingkat kepercayaan 95% dan interval kepercayaanya [15.644558013932576,35.355441986067426], dengan selisih rata-ratanya :  25.5.\n",
        "- Mecakup nol: ini berarti terdapat perbedaan yang signifikan antar rata-rata kepuasan penguna sebelum dan sebelum pengenalan fitur baru. Artinya perusahaan percaya bahawa pengenalan fitur baru berpengaruh terhadap kepuasan pada pelanggan.\n"
      ],
      "metadata": {
        "id": "KO9KmqI_XPXi"
      }
    }
  ]
}